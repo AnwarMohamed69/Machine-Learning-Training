{
  "nbformat": 4,
  "nbformat_minor": 0,
  "metadata": {
    "colab": {
      "name": "Mini_Projects_2/ part 2.ipynb",
      "provenance": [],
      "include_colab_link": true
    },
    "kernelspec": {
      "name": "python3",
      "display_name": "Python 3"
    }
  },
  "cells": [
    {
      "cell_type": "markdown",
      "metadata": {
        "id": "view-in-github",
        "colab_type": "text"
      },
      "source": [
        "<a href=\"https://colab.research.google.com/github/AnwarMohamed69/Machine-Learning-Training/blob/main/Mini_Projects_2_part_2.ipynb\" target=\"_parent\"><img src=\"https://colab.research.google.com/assets/colab-badge.svg\" alt=\"Open In Colab\"/></a>"
      ]
    },
    {
      "cell_type": "markdown",
      "metadata": {
        "id": "c2sSEq3uSurn"
      },
      "source": [
        "# Files and Exceptions"
      ]
    },
    {
      "cell_type": "code",
      "metadata": {
        "id": "VppOUgyU_Auv"
      },
      "source": [
        "from google.colab import drive\n",
        "drive.mount('/content/drive')"
      ],
      "execution_count": null,
      "outputs": []
    },
    {
      "cell_type": "markdown",
      "metadata": {
        "id": "qw2XyRs-TWIF"
      },
      "source": [
        "**8. Sum of Numbers** <br>\n",
        "Assume that a file containing a series of integers is named numbers.txt and exists on the Drive. Write a program that reads all of the numbers stored in the file and calculates their total.\n",
        "\n",
        "Find file here: <br>\n",
        "https://drive.google.com/file/d/1GaOURA7jp0NLvfaOfl4cCClKK_pv3q0r/view?usp=sharing"
      ]
    },
    {
      "cell_type": "code",
      "metadata": {
        "id": "92EStR9KSu8N",
        "outputId": "ea1bcd55-20cc-4e4b-a3d7-41df2a8a46fb",
        "colab": {
          "base_uri": "https://localhost:8080/"
        }
      },
      "source": [
        "def main():\n",
        "    total=0.0\n",
        "\n",
        "    try:\n",
        "        infile = open('numbers.txt', 'r')\n",
        "        for line in infile:\n",
        "            amount = float(line)\n",
        "            total+=amount\n",
        "\n",
        "        infile.close()\n",
        "    except exception as error:\n",
        "        print(err)\n",
        "    else:\n",
        "        print(format(total,',.2f'))\n",
        "\n",
        "main()   \n"
      ],
      "execution_count": 6,
      "outputs": [
        {
          "output_type": "stream",
          "text": [
            "5,931,486,514.00\n"
          ],
          "name": "stdout"
        }
      ]
    },
    {
      "cell_type": "code",
      "metadata": {
        "id": "B7GImG_lSu-u"
      },
      "source": [
        ""
      ],
      "execution_count": null,
      "outputs": []
    },
    {
      "cell_type": "markdown",
      "metadata": {
        "id": "gW0mWcdDVgK4"
      },
      "source": [
        "**9. Average of Numbers** <br>\n",
        "Assume that a file containing a series of integers is named numbers.txt and exists on the Drive. Write a program that calculates the average of all the numbers stored in\n",
        "the file"
      ]
    },
    {
      "cell_type": "code",
      "metadata": {
        "id": "3-DZx-vnSvCe",
        "outputId": "cb7bec66-b430-4bc7-b153-3a335e6574a8",
        "colab": {
          "base_uri": "https://localhost:8080/"
        }
      },
      "source": [
        "def main():\n",
        "\n",
        "   total = 0.0\n",
        "   length = 0.0\n",
        "   average = 0.0\n",
        "\n",
        "   try:\n",
        "       infile = open('numbers.txt', 'r')\n",
        "       for line in infile:\n",
        "           amount = float(line)\n",
        "           total += amount\n",
        "           length = length + 1\n",
        "       average = total / length\n",
        "       infile.close()\n",
        "       print('There were ', length, ' numbers in the file.' )\n",
        "       print(format(average, ',.2f'))\n",
        "\n",
        "   except:\n",
        "       print('An error has occurred')\n",
        "main()"
      ],
      "execution_count": 11,
      "outputs": [
        {
          "output_type": "stream",
          "text": [
            "There were  58.0  numbers in the file.\n",
            "102,267,008.86\n"
          ],
          "name": "stdout"
        }
      ]
    },
    {
      "cell_type": "markdown",
      "metadata": {
        "id": "vjchCYETVwPx"
      },
      "source": [
        "**10. Random Number File Writer**<br>\n",
        "Write a program that writes a series of random numbers to a file. Each random number should be in the range of 1 \n",
        "through 500. The application should let the user specify how\n",
        "many random numbers the file will hold.\n"
      ]
    },
    {
      "cell_type": "code",
      "metadata": {
        "id": "DCyba_BZVxLF"
      },
      "source": [
        "afile = open(\"Random.txt\", \"w\" )\n",
        "\n",
        "for i in range(int(input('How many random numbers?: '))):\n",
        "    line = str(random.randint(1, 500))\n",
        "    afile.write(line)\n",
        "    print(line)\n",
        "\n",
        "afile.close()"
      ],
      "execution_count": null,
      "outputs": []
    },
    {
      "cell_type": "code",
      "metadata": {
        "id": "uZ7CQJM0VxN5"
      },
      "source": [
        ""
      ],
      "execution_count": null,
      "outputs": []
    },
    {
      "cell_type": "markdown",
      "metadata": {
        "id": "p75ZKqbXWMdY"
      },
      "source": [
        "**11.  Exception Handing** <br>\n",
        "Modify the program that you wrote for Exercise 9 so it handles the following exceptions: <br>\n",
        "* It should handle any IOError exceptions that are raised when the file is opened and data\n",
        "is read from it. <br>\n",
        "* It should handle any ValueError exceptions that are raised when the items that are read from the file are converted to a number."
      ]
    },
    {
      "cell_type": "code",
      "metadata": {
        "id": "22SOHQbrVxRE"
      },
      "source": [
        "def main():\n",
        "\n",
        "   total = 0.0\n",
        "   length = 0.0\n",
        "   average = 0.0\n",
        "\n",
        "   try:\n",
        "       infile = open('numbers.txt', 'r')\n",
        "       for line in infile:\n",
        "           amount = float(line)\n",
        "           total += amount\n",
        "           length = length + 1\n",
        "       average = total / length\n",
        "       infile.close()\n",
        "       print('There were ', length, ' numbers in the file.' )\n",
        "       print(format(average, ',.2f'))\n",
        "\n",
        "   except IOError:\n",
        "       print('An error occurred trying to read the file.')\n",
        "\n",
        "   except ValueError:\n",
        "       print('Non-numeric data found in the file')\n",
        "\n",
        "   except:\n",
        "       print('An error has occurred')\n",
        "main()"
      ],
      "execution_count": null,
      "outputs": []
    },
    {
      "cell_type": "code",
      "metadata": {
        "id": "3p0MENR_WrBV"
      },
      "source": [
        ""
      ],
      "execution_count": null,
      "outputs": []
    }
  ]
}